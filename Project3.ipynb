{
 "cells": [
  {
   "cell_type": "code",
   "execution_count": 2,
   "metadata": {
    "ExecuteTime": {
     "end_time": "2021-02-26T17:42:18.565420Z",
     "start_time": "2021-02-26T17:42:17.046629Z"
    }
   },
   "outputs": [],
   "source": [
    "from sklearn.model_selection import train_test_split\n",
    "from sklearn.metrics import classification_report\n",
    "from sklearn.svm import SVC \n",
    "import numpy as np\n",
    "import matplotlib.pyplot as plt\n",
    "import pandas as pd\n",
    "from matplotlib import style"
   ]
  },
  {
   "cell_type": "markdown",
   "metadata": {},
   "source": [
    "## Can we tell if a Single or Multiple vehicles are involved ?\n",
    "## From a couple of attributes, e.g. Bus involvement / Speed Limit / Day of Week etc."
   ]
  },
  {
   "cell_type": "code",
   "execution_count": 5,
   "metadata": {
    "ExecuteTime": {
     "end_time": "2021-02-26T17:43:01.901777Z",
     "start_time": "2021-02-26T17:42:56.743261Z"
    },
    "scrolled": true
   },
   "outputs": [
    {
     "data": {
      "text/html": [
       "<div>\n",
       "<style scoped>\n",
       "    .dataframe tbody tr th:only-of-type {\n",
       "        vertical-align: middle;\n",
       "    }\n",
       "\n",
       "    .dataframe tbody tr th {\n",
       "        vertical-align: top;\n",
       "    }\n",
       "\n",
       "    .dataframe thead th {\n",
       "        text-align: right;\n",
       "    }\n",
       "</style>\n",
       "<table border=\"1\" class=\"dataframe\">\n",
       "  <thead>\n",
       "    <tr style=\"text-align: right;\">\n",
       "      <th></th>\n",
       "      <th>Crash ID</th>\n",
       "      <th>State</th>\n",
       "      <th>Month</th>\n",
       "      <th>Year</th>\n",
       "      <th>Dayweek</th>\n",
       "      <th>Time</th>\n",
       "      <th>Crash Type</th>\n",
       "      <th>Number Fatalities</th>\n",
       "      <th>Bus Involvement</th>\n",
       "      <th>Heavy Rigid Truck Involvement</th>\n",
       "      <th>Articulated Truck Involvement</th>\n",
       "      <th>Speed Limit</th>\n",
       "      <th>National Remoteness Areas</th>\n",
       "      <th>SA4 Name 2016</th>\n",
       "      <th>National LGA Name 2017</th>\n",
       "      <th>National Road Type</th>\n",
       "      <th>Christmas Period</th>\n",
       "      <th>Easter Period</th>\n",
       "      <th>Day of week</th>\n",
       "      <th>Time of day</th>\n",
       "    </tr>\n",
       "  </thead>\n",
       "  <tbody>\n",
       "    <tr>\n",
       "      <th>0</th>\n",
       "      <td>20213010.0</td>\n",
       "      <td>Qld</td>\n",
       "      <td>1</td>\n",
       "      <td>2021</td>\n",
       "      <td>Tuesday</td>\n",
       "      <td>17:00:00</td>\n",
       "      <td>Multiple</td>\n",
       "      <td>3</td>\n",
       "      <td>No</td>\n",
       "      <td>No</td>\n",
       "      <td>No</td>\n",
       "      <td>70</td>\n",
       "      <td>Major Cities of Australia</td>\n",
       "      <td>Brisbane - East</td>\n",
       "      <td>Redland (C)</td>\n",
       "      <td>Sub-arterial Road</td>\n",
       "      <td>No</td>\n",
       "      <td>No</td>\n",
       "      <td>Weekday</td>\n",
       "      <td>Day</td>\n",
       "    </tr>\n",
       "    <tr>\n",
       "      <th>1</th>\n",
       "      <td>20211018.0</td>\n",
       "      <td>NSW</td>\n",
       "      <td>1</td>\n",
       "      <td>2021</td>\n",
       "      <td>Friday</td>\n",
       "      <td>04:55:00</td>\n",
       "      <td>Multiple</td>\n",
       "      <td>1</td>\n",
       "      <td>No</td>\n",
       "      <td>No</td>\n",
       "      <td>No</td>\n",
       "      <td>50</td>\n",
       "      <td>Major Cities of Australia</td>\n",
       "      <td>Sydney - South West</td>\n",
       "      <td>Fairfield</td>\n",
       "      <td>Collector Road</td>\n",
       "      <td>No</td>\n",
       "      <td>No</td>\n",
       "      <td>Weekday</td>\n",
       "      <td>Night</td>\n",
       "    </tr>\n",
       "    <tr>\n",
       "      <th>2</th>\n",
       "      <td>20215009.0</td>\n",
       "      <td>WA</td>\n",
       "      <td>1</td>\n",
       "      <td>2021</td>\n",
       "      <td>Saturday</td>\n",
       "      <td>05:55:00</td>\n",
       "      <td>Single</td>\n",
       "      <td>1</td>\n",
       "      <td>No</td>\n",
       "      <td>No</td>\n",
       "      <td>No</td>\n",
       "      <td>80</td>\n",
       "      <td>NaN</td>\n",
       "      <td>NaN</td>\n",
       "      <td>NaN</td>\n",
       "      <td>NaN</td>\n",
       "      <td>No</td>\n",
       "      <td>No</td>\n",
       "      <td>Weekend</td>\n",
       "      <td>Night</td>\n",
       "    </tr>\n",
       "    <tr>\n",
       "      <th>3</th>\n",
       "      <td>20213016.0</td>\n",
       "      <td>Qld</td>\n",
       "      <td>1</td>\n",
       "      <td>2021</td>\n",
       "      <td>Friday</td>\n",
       "      <td>17:00:00</td>\n",
       "      <td>Single</td>\n",
       "      <td>1</td>\n",
       "      <td>No</td>\n",
       "      <td>No</td>\n",
       "      <td>No</td>\n",
       "      <td>70</td>\n",
       "      <td>Outer Regional Australia</td>\n",
       "      <td>Cairns</td>\n",
       "      <td>Cairns (R)</td>\n",
       "      <td>Local Road</td>\n",
       "      <td>No</td>\n",
       "      <td>No</td>\n",
       "      <td>Weekday</td>\n",
       "      <td>Day</td>\n",
       "    </tr>\n",
       "    <tr>\n",
       "      <th>4</th>\n",
       "      <td>20215018.0</td>\n",
       "      <td>WA</td>\n",
       "      <td>1</td>\n",
       "      <td>2021</td>\n",
       "      <td>Sunday</td>\n",
       "      <td>19:31:00</td>\n",
       "      <td>Single</td>\n",
       "      <td>1</td>\n",
       "      <td>No</td>\n",
       "      <td>No</td>\n",
       "      <td>No</td>\n",
       "      <td>50</td>\n",
       "      <td>NaN</td>\n",
       "      <td>NaN</td>\n",
       "      <td>NaN</td>\n",
       "      <td>NaN</td>\n",
       "      <td>No</td>\n",
       "      <td>No</td>\n",
       "      <td>Weekend</td>\n",
       "      <td>Night</td>\n",
       "    </tr>\n",
       "  </tbody>\n",
       "</table>\n",
       "</div>"
      ],
      "text/plain": [
       "     Crash ID State  Month  Year   Dayweek      Time Crash Type  \\\n",
       "0  20213010.0   Qld      1  2021   Tuesday  17:00:00   Multiple   \n",
       "1  20211018.0   NSW      1  2021    Friday  04:55:00   Multiple   \n",
       "2  20215009.0    WA      1  2021  Saturday  05:55:00     Single   \n",
       "3  20213016.0   Qld      1  2021    Friday  17:00:00     Single   \n",
       "4  20215018.0    WA      1  2021    Sunday  19:31:00     Single   \n",
       "\n",
       "   Number Fatalities Bus Involvement Heavy Rigid Truck Involvement  \\\n",
       "0                  3              No                            No   \n",
       "1                  1              No                            No   \n",
       "2                  1              No                            No   \n",
       "3                  1              No                            No   \n",
       "4                  1              No                            No   \n",
       "\n",
       "  Articulated Truck Involvement Speed Limit  National Remoteness Areas  \\\n",
       "0                            No          70  Major Cities of Australia   \n",
       "1                            No          50  Major Cities of Australia   \n",
       "2                            No          80                        NaN   \n",
       "3                            No          70   Outer Regional Australia   \n",
       "4                            No          50                        NaN   \n",
       "\n",
       "         SA4 Name 2016 National LGA Name 2017 National Road Type  \\\n",
       "0      Brisbane - East            Redland (C)  Sub-arterial Road   \n",
       "1  Sydney - South West              Fairfield     Collector Road   \n",
       "2                  NaN                    NaN                NaN   \n",
       "3               Cairns             Cairns (R)         Local Road   \n",
       "4                  NaN                    NaN                NaN   \n",
       "\n",
       "  Christmas Period Easter Period Day of week Time of day  \n",
       "0               No            No     Weekday         Day  \n",
       "1               No            No     Weekday       Night  \n",
       "2               No            No     Weekend       Night  \n",
       "3               No            No     Weekday         Day  \n",
       "4               No            No     Weekend       Night  "
      ]
     },
     "execution_count": 5,
     "metadata": {},
     "output_type": "execute_result"
    }
   ],
   "source": [
    "# Load in csv\n",
    "url = 'https://data.gov.au/data/dataset/5b530fb8-526e-4fbf-b0f6-aa24e84e4277/resource/d54f7465-74b8-4fff-8653-37e724d0ebbb/download/ardd_fatalcrashes_jan2021.csv'\n",
    "ardd_df = pd.read_csv(url,low_memory=False,na_values =['-9','Unspecified'])\n",
    "ardd_df.head()"
   ]
  },
  {
   "cell_type": "code",
   "execution_count": 3,
   "metadata": {
    "ExecuteTime": {
     "end_time": "2021-02-25T16:22:48.967395Z",
     "start_time": "2021-02-25T16:22:48.953091Z"
    },
    "scrolled": true
   },
   "outputs": [
    {
     "data": {
      "text/html": [
       "<div>\n",
       "<style scoped>\n",
       "    .dataframe tbody tr th:only-of-type {\n",
       "        vertical-align: middle;\n",
       "    }\n",
       "\n",
       "    .dataframe tbody tr th {\n",
       "        vertical-align: top;\n",
       "    }\n",
       "\n",
       "    .dataframe thead th {\n",
       "        text-align: right;\n",
       "    }\n",
       "</style>\n",
       "<table border=\"1\" class=\"dataframe\">\n",
       "  <thead>\n",
       "    <tr style=\"text-align: right;\">\n",
       "      <th></th>\n",
       "      <th>Month</th>\n",
       "      <th>Dayweek</th>\n",
       "      <th>Crash Type</th>\n",
       "      <th>Number Fatalities</th>\n",
       "      <th>Bus Involvement</th>\n",
       "      <th>Heavy Rigid Truck Involvement</th>\n",
       "      <th>Articulated Truck Involvement</th>\n",
       "      <th>Speed Limit</th>\n",
       "      <th>Christmas Period</th>\n",
       "      <th>Easter Period</th>\n",
       "      <th>Day of week</th>\n",
       "      <th>Time of day</th>\n",
       "    </tr>\n",
       "  </thead>\n",
       "  <tbody>\n",
       "    <tr>\n",
       "      <th>0</th>\n",
       "      <td>1</td>\n",
       "      <td>Tuesday</td>\n",
       "      <td>Multiple</td>\n",
       "      <td>3</td>\n",
       "      <td>No</td>\n",
       "      <td>No</td>\n",
       "      <td>No</td>\n",
       "      <td>70</td>\n",
       "      <td>No</td>\n",
       "      <td>No</td>\n",
       "      <td>Weekday</td>\n",
       "      <td>Day</td>\n",
       "    </tr>\n",
       "    <tr>\n",
       "      <th>1</th>\n",
       "      <td>1</td>\n",
       "      <td>Friday</td>\n",
       "      <td>Multiple</td>\n",
       "      <td>1</td>\n",
       "      <td>No</td>\n",
       "      <td>No</td>\n",
       "      <td>No</td>\n",
       "      <td>50</td>\n",
       "      <td>No</td>\n",
       "      <td>No</td>\n",
       "      <td>Weekday</td>\n",
       "      <td>Night</td>\n",
       "    </tr>\n",
       "    <tr>\n",
       "      <th>2</th>\n",
       "      <td>1</td>\n",
       "      <td>Saturday</td>\n",
       "      <td>Single</td>\n",
       "      <td>1</td>\n",
       "      <td>No</td>\n",
       "      <td>No</td>\n",
       "      <td>No</td>\n",
       "      <td>80</td>\n",
       "      <td>No</td>\n",
       "      <td>No</td>\n",
       "      <td>Weekend</td>\n",
       "      <td>Night</td>\n",
       "    </tr>\n",
       "    <tr>\n",
       "      <th>3</th>\n",
       "      <td>1</td>\n",
       "      <td>Friday</td>\n",
       "      <td>Single</td>\n",
       "      <td>1</td>\n",
       "      <td>No</td>\n",
       "      <td>No</td>\n",
       "      <td>No</td>\n",
       "      <td>70</td>\n",
       "      <td>No</td>\n",
       "      <td>No</td>\n",
       "      <td>Weekday</td>\n",
       "      <td>Day</td>\n",
       "    </tr>\n",
       "    <tr>\n",
       "      <th>4</th>\n",
       "      <td>1</td>\n",
       "      <td>Sunday</td>\n",
       "      <td>Single</td>\n",
       "      <td>1</td>\n",
       "      <td>No</td>\n",
       "      <td>No</td>\n",
       "      <td>No</td>\n",
       "      <td>50</td>\n",
       "      <td>No</td>\n",
       "      <td>No</td>\n",
       "      <td>Weekend</td>\n",
       "      <td>Night</td>\n",
       "    </tr>\n",
       "  </tbody>\n",
       "</table>\n",
       "</div>"
      ],
      "text/plain": [
       "   Month   Dayweek Crash Type  Number Fatalities Bus Involvement  \\\n",
       "0      1   Tuesday   Multiple                  3              No   \n",
       "1      1    Friday   Multiple                  1              No   \n",
       "2      1  Saturday     Single                  1              No   \n",
       "3      1    Friday     Single                  1              No   \n",
       "4      1    Sunday     Single                  1              No   \n",
       "\n",
       "  Heavy Rigid Truck Involvement Articulated Truck Involvement Speed Limit  \\\n",
       "0                            No                            No          70   \n",
       "1                            No                            No          50   \n",
       "2                            No                            No          80   \n",
       "3                            No                            No          70   \n",
       "4                            No                            No          50   \n",
       "\n",
       "  Christmas Period Easter Period Day of week Time of day  \n",
       "0               No            No     Weekday         Day  \n",
       "1               No            No     Weekday       Night  \n",
       "2               No            No     Weekend       Night  \n",
       "3               No            No     Weekday         Day  \n",
       "4               No            No     Weekend       Night  "
      ]
     },
     "execution_count": 3,
     "metadata": {},
     "output_type": "execute_result"
    }
   ],
   "source": [
    "# Drop column  'Crash ID', 'Time', 'National Remoteness Areas', '\n",
    "# SA4 Name 2016', 'National LGA Name 2017','National Road Type','State' & 'Year'\n",
    "# to reduce complexity\n",
    "ardd_cleaned_df = ardd_df.drop(['Crash ID','Time','National Remoteness Areas', \\\n",
    "                                'SA4 Name 2016', 'National LGA Name 2017','National Road Type','State','Year'],axis=1)\n",
    "ardd_cleaned_df.head()"
   ]
  },
  {
   "cell_type": "code",
   "execution_count": 4,
   "metadata": {
    "ExecuteTime": {
     "end_time": "2021-02-25T16:22:48.994350Z",
     "start_time": "2021-02-25T16:22:48.969304Z"
    }
   },
   "outputs": [
    {
     "name": "stdout",
     "output_type": "stream",
     "text": [
      "Number of observations: 28240\n"
     ]
    }
   ],
   "source": [
    "# Drop rows with NaN\n",
    "ardd_cleaned_df = ardd_cleaned_df.dropna(inplace=False)\n",
    "print(f'Number of observations: {len(ardd_cleaned_df)}')"
   ]
  },
  {
   "cell_type": "markdown",
   "metadata": {
    "ExecuteTime": {
     "end_time": "2021-02-23T15:42:03.945914Z",
     "start_time": "2021-02-23T15:42:03.942546Z"
    }
   },
   "source": [
    "---------------------------------------------------------"
   ]
  },
  {
   "cell_type": "markdown",
   "metadata": {},
   "source": [
    "# Starts with some graphs"
   ]
  },
  {
   "cell_type": "code",
   "execution_count": 7,
   "metadata": {
    "ExecuteTime": {
     "end_time": "2021-02-26T19:22:31.126780Z",
     "start_time": "2021-02-26T19:22:31.124786Z"
    }
   },
   "outputs": [],
   "source": [
    "graph_df = ardd_df"
   ]
  },
  {
   "cell_type": "code",
   "execution_count": 8,
   "metadata": {
    "ExecuteTime": {
     "end_time": "2021-02-26T19:22:32.741414Z",
     "start_time": "2021-02-26T19:22:32.723819Z"
    }
   },
   "outputs": [
    {
     "data": {
      "text/html": [
       "<div>\n",
       "<style scoped>\n",
       "    .dataframe tbody tr th:only-of-type {\n",
       "        vertical-align: middle;\n",
       "    }\n",
       "\n",
       "    .dataframe tbody tr th {\n",
       "        vertical-align: top;\n",
       "    }\n",
       "\n",
       "    .dataframe thead th {\n",
       "        text-align: right;\n",
       "    }\n",
       "</style>\n",
       "<table border=\"1\" class=\"dataframe\">\n",
       "  <thead>\n",
       "    <tr style=\"text-align: right;\">\n",
       "      <th></th>\n",
       "      <th>Crash ID</th>\n",
       "      <th>State</th>\n",
       "      <th>Month</th>\n",
       "      <th>Year</th>\n",
       "      <th>Dayweek</th>\n",
       "      <th>Time</th>\n",
       "      <th>Crash Type</th>\n",
       "      <th>Number Fatalities</th>\n",
       "      <th>Bus Involvement</th>\n",
       "      <th>Heavy Rigid Truck Involvement</th>\n",
       "      <th>Articulated Truck Involvement</th>\n",
       "      <th>Speed Limit</th>\n",
       "      <th>National Remoteness Areas</th>\n",
       "      <th>SA4 Name 2016</th>\n",
       "      <th>National LGA Name 2017</th>\n",
       "      <th>National Road Type</th>\n",
       "      <th>Christmas Period</th>\n",
       "      <th>Easter Period</th>\n",
       "      <th>Day of week</th>\n",
       "      <th>Time of day</th>\n",
       "    </tr>\n",
       "  </thead>\n",
       "  <tbody>\n",
       "    <tr>\n",
       "      <th>0</th>\n",
       "      <td>20213010.0</td>\n",
       "      <td>Qld</td>\n",
       "      <td>1</td>\n",
       "      <td>2021</td>\n",
       "      <td>Tuesday</td>\n",
       "      <td>17:00:00</td>\n",
       "      <td>Multiple</td>\n",
       "      <td>3</td>\n",
       "      <td>No</td>\n",
       "      <td>No</td>\n",
       "      <td>No</td>\n",
       "      <td>70</td>\n",
       "      <td>Major Cities of Australia</td>\n",
       "      <td>Brisbane - East</td>\n",
       "      <td>Redland (C)</td>\n",
       "      <td>Sub-arterial Road</td>\n",
       "      <td>No</td>\n",
       "      <td>No</td>\n",
       "      <td>Weekday</td>\n",
       "      <td>Day</td>\n",
       "    </tr>\n",
       "    <tr>\n",
       "      <th>1</th>\n",
       "      <td>20211018.0</td>\n",
       "      <td>NSW</td>\n",
       "      <td>1</td>\n",
       "      <td>2021</td>\n",
       "      <td>Friday</td>\n",
       "      <td>04:55:00</td>\n",
       "      <td>Multiple</td>\n",
       "      <td>1</td>\n",
       "      <td>No</td>\n",
       "      <td>No</td>\n",
       "      <td>No</td>\n",
       "      <td>50</td>\n",
       "      <td>Major Cities of Australia</td>\n",
       "      <td>Sydney - South West</td>\n",
       "      <td>Fairfield</td>\n",
       "      <td>Collector Road</td>\n",
       "      <td>No</td>\n",
       "      <td>No</td>\n",
       "      <td>Weekday</td>\n",
       "      <td>Night</td>\n",
       "    </tr>\n",
       "    <tr>\n",
       "      <th>2</th>\n",
       "      <td>20215009.0</td>\n",
       "      <td>WA</td>\n",
       "      <td>1</td>\n",
       "      <td>2021</td>\n",
       "      <td>Saturday</td>\n",
       "      <td>05:55:00</td>\n",
       "      <td>Single</td>\n",
       "      <td>1</td>\n",
       "      <td>No</td>\n",
       "      <td>No</td>\n",
       "      <td>No</td>\n",
       "      <td>80</td>\n",
       "      <td>NaN</td>\n",
       "      <td>NaN</td>\n",
       "      <td>NaN</td>\n",
       "      <td>NaN</td>\n",
       "      <td>No</td>\n",
       "      <td>No</td>\n",
       "      <td>Weekend</td>\n",
       "      <td>Night</td>\n",
       "    </tr>\n",
       "    <tr>\n",
       "      <th>3</th>\n",
       "      <td>20213016.0</td>\n",
       "      <td>Qld</td>\n",
       "      <td>1</td>\n",
       "      <td>2021</td>\n",
       "      <td>Friday</td>\n",
       "      <td>17:00:00</td>\n",
       "      <td>Single</td>\n",
       "      <td>1</td>\n",
       "      <td>No</td>\n",
       "      <td>No</td>\n",
       "      <td>No</td>\n",
       "      <td>70</td>\n",
       "      <td>Outer Regional Australia</td>\n",
       "      <td>Cairns</td>\n",
       "      <td>Cairns (R)</td>\n",
       "      <td>Local Road</td>\n",
       "      <td>No</td>\n",
       "      <td>No</td>\n",
       "      <td>Weekday</td>\n",
       "      <td>Day</td>\n",
       "    </tr>\n",
       "    <tr>\n",
       "      <th>4</th>\n",
       "      <td>20215018.0</td>\n",
       "      <td>WA</td>\n",
       "      <td>1</td>\n",
       "      <td>2021</td>\n",
       "      <td>Sunday</td>\n",
       "      <td>19:31:00</td>\n",
       "      <td>Single</td>\n",
       "      <td>1</td>\n",
       "      <td>No</td>\n",
       "      <td>No</td>\n",
       "      <td>No</td>\n",
       "      <td>50</td>\n",
       "      <td>NaN</td>\n",
       "      <td>NaN</td>\n",
       "      <td>NaN</td>\n",
       "      <td>NaN</td>\n",
       "      <td>No</td>\n",
       "      <td>No</td>\n",
       "      <td>Weekend</td>\n",
       "      <td>Night</td>\n",
       "    </tr>\n",
       "  </tbody>\n",
       "</table>\n",
       "</div>"
      ],
      "text/plain": [
       "     Crash ID State  Month  Year   Dayweek      Time Crash Type  \\\n",
       "0  20213010.0   Qld      1  2021   Tuesday  17:00:00   Multiple   \n",
       "1  20211018.0   NSW      1  2021    Friday  04:55:00   Multiple   \n",
       "2  20215009.0    WA      1  2021  Saturday  05:55:00     Single   \n",
       "3  20213016.0   Qld      1  2021    Friday  17:00:00     Single   \n",
       "4  20215018.0    WA      1  2021    Sunday  19:31:00     Single   \n",
       "\n",
       "   Number Fatalities Bus Involvement Heavy Rigid Truck Involvement  \\\n",
       "0                  3              No                            No   \n",
       "1                  1              No                            No   \n",
       "2                  1              No                            No   \n",
       "3                  1              No                            No   \n",
       "4                  1              No                            No   \n",
       "\n",
       "  Articulated Truck Involvement Speed Limit  National Remoteness Areas  \\\n",
       "0                            No          70  Major Cities of Australia   \n",
       "1                            No          50  Major Cities of Australia   \n",
       "2                            No          80                        NaN   \n",
       "3                            No          70   Outer Regional Australia   \n",
       "4                            No          50                        NaN   \n",
       "\n",
       "         SA4 Name 2016 National LGA Name 2017 National Road Type  \\\n",
       "0      Brisbane - East            Redland (C)  Sub-arterial Road   \n",
       "1  Sydney - South West              Fairfield     Collector Road   \n",
       "2                  NaN                    NaN                NaN   \n",
       "3               Cairns             Cairns (R)         Local Road   \n",
       "4                  NaN                    NaN                NaN   \n",
       "\n",
       "  Christmas Period Easter Period Day of week Time of day  \n",
       "0               No            No     Weekday         Day  \n",
       "1               No            No     Weekday       Night  \n",
       "2               No            No     Weekend       Night  \n",
       "3               No            No     Weekday         Day  \n",
       "4               No            No     Weekend       Night  "
      ]
     },
     "execution_count": 8,
     "metadata": {},
     "output_type": "execute_result"
    }
   ],
   "source": [
    "graph_df.head()"
   ]
  },
  {
   "cell_type": "code",
   "execution_count": 7,
   "metadata": {
    "ExecuteTime": {
     "end_time": "2021-02-25T16:22:49.161451Z",
     "start_time": "2021-02-25T16:22:49.017017Z"
    }
   },
   "outputs": [
    {
     "data": {
      "image/png": "[encoded data removed]",
      "text/plain": [
       "<Figure size 576x576 with 1 Axes>"
      ]
     },
     "metadata": {},
     "output_type": "display_data"
    }
   ],
   "source": [
    "# Generate a pie plot showing the distribution of age group versus crashes using pandas\n",
    "day_df = graph_df[[\"Dayweek\"]]\n",
    "groupby_dayweek = day_df.groupby([\"Dayweek\"])\n",
    "\n",
    "# calculate count\n",
    "count = groupby_dayweek[\"Dayweek\"].count()\n",
    "\n",
    "# create a dataframe to hold Age Group and Count\n",
    "groupby_dayweek_df = pd.DataFrame({\"Count\": count\n",
    "                           })\n",
    "\n",
    "groupby_dayweek_df = groupby_dayweek_df.reindex(['Sunday', 'Saturday', 'Friday', 'Thursday', 'Wednesday','Tuesday','Monday'])\n",
    "\n",
    "# set the explode value\n",
    "explode=[0.07,0.13,0.0,0.0,0.0,0.0,0.0]\n",
    "plot = groupby_dayweek_df.plot.pie(y=\"Count\",explode = explode, figsize=(8,8), startangle=90, autopct=\"%1.1f%%\",fontsize=15,legend=None)\n",
    "plt.title(f\"Day of Week when accidents happened \\n\\n between 1989 to 2021\",fontsize=20)\n",
    "# plt.legend(bbox_to_anchor=(1.6,0.5), fontsize=20,loc=\"center right\")\n",
    "plt.show()"
   ]
  },
  {
   "cell_type": "code",
   "execution_count": 8,
   "metadata": {
    "ExecuteTime": {
     "end_time": "2021-02-25T16:22:49.332628Z",
     "start_time": "2021-02-25T16:22:49.164705Z"
    },
    "scrolled": true
   },
   "outputs": [
    {
     "data": {
      "image/png": "[encoded data removed]",
      "text/plain": [
       "<Figure size 576x432 with 1 Axes>"
      ]
     },
     "metadata": {
      "needs_background": "light"
     },
     "output_type": "display_data"
    }
   ],
   "source": [
    "# Capture Speed Limit and Crash ID into new dataframe\n",
    "spdlmt_df = graph_df[[\"Speed Limit\"]]\n",
    "\n",
    "# Remove \"unknown\", \"unspecified\" and \"<40\"\n",
    "spdlmt_df = spdlmt_df[(spdlmt_df[\"Speed Limit\"] != \"<40\")]\n",
    "spdlmt_df = spdlmt_df.dropna(inplace=False)\n",
    "\n",
    "# uniform the data type to INT as some of it is in STR\n",
    "spdlmt_df[\"Speed Limit\"] = spdlmt_df[\"Speed Limit\"].astype(int)\n",
    "\n",
    "# Limit results with Speed Limit >= 40\n",
    "spdlmt_df = spdlmt_df[(spdlmt_df[\"Speed Limit\"] >= 40)]\n",
    "\n",
    "# group by the Speed Limit and count the number of fatality\n",
    "groupby_spdlmt = spdlmt_df.groupby([\"Speed Limit\"])\n",
    "\n",
    "# calculate count\n",
    "count = groupby_spdlmt[\"Speed Limit\"].count()\n",
    "\n",
    "# create a dataframe to hold speed limit and Count\n",
    "groupby_spdlmt_df = pd.DataFrame({\"Count\": count})\n",
    "\n",
    "# create a bar chart of the data\n",
    "groupby_spdlmt_df.plot(kind=\"bar\", figsize=(8,6))\n",
    "\n",
    "# Set a Title and labels\n",
    "plt.title(f\"Speed Limit vs Deaths since 1989\", fontsize=20)\n",
    "plt.ylabel(\"Count\",fontsize=14)\n",
    "plt.xlabel(\"Speed Limit\",fontsize=14)\n",
    "plt.show()"
   ]
  },
  {
   "cell_type": "code",
   "execution_count": 16,
   "metadata": {
    "ExecuteTime": {
     "end_time": "2021-02-26T19:49:43.699234Z",
     "start_time": "2021-02-26T19:49:43.549551Z"
    },
    "scrolled": true
   },
   "outputs": [
    {
     "data": {
      "image/png": "[encoded data removed]",
      "text/plain": [
       "<Figure size 576x432 with 1 Axes>"
      ]
     },
     "metadata": {
      "needs_background": "light"
     },
     "output_type": "display_data"
    }
   ],
   "source": [
    "# Capture Speed Limit and Crash ID into new dataframe\n",
    "month_df = graph_df[[\"Month\"]]\n",
    "\n",
    "# Remove \"unknown\", \"unspecified\" and \"<40\"\n",
    "month_df = month_df.dropna(inplace=False)\n",
    "\n",
    "# # uniform the data type to INT as some of it is in STR\n",
    "# month_df[\"Speed Limit\"] = month_df[\"Speed Limit\"].astype(int)\n",
    "\n",
    "# # Limit results with Speed Limit >= 40\n",
    "# spdlmt_df = spdlmt_df[(spdlmt_df[\"Speed Limit\"] >= 40)]\n",
    "\n",
    "# group by the Speed Limit and count the number of fatality\n",
    "groupby_month = month_df.groupby([\"Month\"])\n",
    "\n",
    "# calculate count\n",
    "count = groupby_month[\"Month\"].count()\n",
    "\n",
    "# create a dataframe to hold speed limit and Count\n",
    "groupby_month_df = pd.DataFrame({\"Count\": count})\n",
    "\n",
    "# create a bar chart of the data\n",
    "groupby_month_df.plot(kind=\"bar\", figsize=(8,6))\n",
    "\n",
    "# Set a Title and labels\n",
    "plt.title(f\"Month vs Deaths since 1989\", fontsize=20)\n",
    "plt.ylabel(\"Count\",fontsize=14)\n",
    "plt.ylim(3300,4300)\n",
    "plt.xlabel(\"Month\",fontsize=14)\n",
    "plt.show()"
   ]
  },
  {
   "cell_type": "code",
   "execution_count": 9,
   "metadata": {
    "ExecuteTime": {
     "end_time": "2021-02-25T16:22:49.465649Z",
     "start_time": "2021-02-25T16:22:49.334853Z"
    }
   },
   "outputs": [
    {
     "data": {
      "image/png": "[encoded data removed]",
      "text/plain": [
       "<Figure size 576x432 with 1 Axes>"
      ]
     },
     "metadata": {
      "needs_background": "light"
     },
     "output_type": "display_data"
    }
   ],
   "source": [
    "# capture Year and state into new dataframe\n",
    "state_year_df = graph_df[[\"Year\"]]\n",
    "\n",
    "# group by the Year and count the number of fatality\n",
    "groupby_state = state_year_df.groupby([\"Year\"])\n",
    "\n",
    "# calculate count\n",
    "count = groupby_state[\"Year\"].count()\n",
    "                                       \n",
    "# create a dataframe to hold Year and Count\n",
    "groupby_year_df = pd.DataFrame({\"Count\": count})\n",
    "plt.figure(figsize=(8,6))\n",
    "plt.plot(groupby_year_df, marker = \"x\")\n",
    "plt.title(f\"Fatalities over time since 1989\", fontsize=20)\n",
    "plt.ylabel(\"Fatalities\",fontsize=14)\n",
    "plt.xlabel(\"Year\",fontsize=14)\n",
    "plt.show()"
   ]
  },
  {
   "cell_type": "markdown",
   "metadata": {
    "ExecuteTime": {
     "end_time": "2021-02-23T15:42:03.945914Z",
     "start_time": "2021-02-23T15:42:03.942546Z"
    }
   },
   "source": [
    "---------------------------------------------------------"
   ]
  },
  {
   "cell_type": "code",
   "execution_count": 10,
   "metadata": {
    "ExecuteTime": {
     "end_time": "2021-02-25T16:22:49.492021Z",
     "start_time": "2021-02-25T16:22:49.466917Z"
    },
    "scrolled": true
   },
   "outputs": [
    {
     "data": {
      "text/html": [
       "<div>\n",
       "<style scoped>\n",
       "    .dataframe tbody tr th:only-of-type {\n",
       "        vertical-align: middle;\n",
       "    }\n",
       "\n",
       "    .dataframe tbody tr th {\n",
       "        vertical-align: top;\n",
       "    }\n",
       "\n",
       "    .dataframe thead th {\n",
       "        text-align: right;\n",
       "    }\n",
       "</style>\n",
       "<table border=\"1\" class=\"dataframe\">\n",
       "  <thead>\n",
       "    <tr style=\"text-align: right;\">\n",
       "      <th></th>\n",
       "      <th>Month</th>\n",
       "      <th>Crash Type</th>\n",
       "      <th>Number Fatalities</th>\n",
       "      <th>Bus Involvement</th>\n",
       "      <th>Heavy Rigid Truck Involvement</th>\n",
       "      <th>Articulated Truck Involvement</th>\n",
       "      <th>Speed Limit</th>\n",
       "      <th>Christmas Period</th>\n",
       "      <th>Easter Period</th>\n",
       "      <th>Day of week</th>\n",
       "      <th>Time of day</th>\n",
       "      <th>Friday</th>\n",
       "      <th>Monday</th>\n",
       "      <th>Saturday</th>\n",
       "      <th>Sunday</th>\n",
       "      <th>Thursday</th>\n",
       "      <th>Tuesday</th>\n",
       "      <th>Wednesday</th>\n",
       "    </tr>\n",
       "  </thead>\n",
       "  <tbody>\n",
       "    <tr>\n",
       "      <th>0</th>\n",
       "      <td>1</td>\n",
       "      <td>Multiple</td>\n",
       "      <td>3</td>\n",
       "      <td>No</td>\n",
       "      <td>No</td>\n",
       "      <td>No</td>\n",
       "      <td>70</td>\n",
       "      <td>No</td>\n",
       "      <td>No</td>\n",
       "      <td>Weekday</td>\n",
       "      <td>Day</td>\n",
       "      <td>0</td>\n",
       "      <td>0</td>\n",
       "      <td>0</td>\n",
       "      <td>0</td>\n",
       "      <td>0</td>\n",
       "      <td>1</td>\n",
       "      <td>0</td>\n",
       "    </tr>\n",
       "    <tr>\n",
       "      <th>1</th>\n",
       "      <td>1</td>\n",
       "      <td>Multiple</td>\n",
       "      <td>1</td>\n",
       "      <td>No</td>\n",
       "      <td>No</td>\n",
       "      <td>No</td>\n",
       "      <td>50</td>\n",
       "      <td>No</td>\n",
       "      <td>No</td>\n",
       "      <td>Weekday</td>\n",
       "      <td>Night</td>\n",
       "      <td>1</td>\n",
       "      <td>0</td>\n",
       "      <td>0</td>\n",
       "      <td>0</td>\n",
       "      <td>0</td>\n",
       "      <td>0</td>\n",
       "      <td>0</td>\n",
       "    </tr>\n",
       "    <tr>\n",
       "      <th>2</th>\n",
       "      <td>1</td>\n",
       "      <td>Single</td>\n",
       "      <td>1</td>\n",
       "      <td>No</td>\n",
       "      <td>No</td>\n",
       "      <td>No</td>\n",
       "      <td>80</td>\n",
       "      <td>No</td>\n",
       "      <td>No</td>\n",
       "      <td>Weekend</td>\n",
       "      <td>Night</td>\n",
       "      <td>0</td>\n",
       "      <td>0</td>\n",
       "      <td>1</td>\n",
       "      <td>0</td>\n",
       "      <td>0</td>\n",
       "      <td>0</td>\n",
       "      <td>0</td>\n",
       "    </tr>\n",
       "    <tr>\n",
       "      <th>3</th>\n",
       "      <td>1</td>\n",
       "      <td>Single</td>\n",
       "      <td>1</td>\n",
       "      <td>No</td>\n",
       "      <td>No</td>\n",
       "      <td>No</td>\n",
       "      <td>70</td>\n",
       "      <td>No</td>\n",
       "      <td>No</td>\n",
       "      <td>Weekday</td>\n",
       "      <td>Day</td>\n",
       "      <td>1</td>\n",
       "      <td>0</td>\n",
       "      <td>0</td>\n",
       "      <td>0</td>\n",
       "      <td>0</td>\n",
       "      <td>0</td>\n",
       "      <td>0</td>\n",
       "    </tr>\n",
       "    <tr>\n",
       "      <th>4</th>\n",
       "      <td>1</td>\n",
       "      <td>Single</td>\n",
       "      <td>1</td>\n",
       "      <td>No</td>\n",
       "      <td>No</td>\n",
       "      <td>No</td>\n",
       "      <td>50</td>\n",
       "      <td>No</td>\n",
       "      <td>No</td>\n",
       "      <td>Weekend</td>\n",
       "      <td>Night</td>\n",
       "      <td>0</td>\n",
       "      <td>0</td>\n",
       "      <td>0</td>\n",
       "      <td>1</td>\n",
       "      <td>0</td>\n",
       "      <td>0</td>\n",
       "      <td>0</td>\n",
       "    </tr>\n",
       "  </tbody>\n",
       "</table>\n",
       "</div>"
      ],
      "text/plain": [
       "   Month Crash Type  Number Fatalities Bus Involvement  \\\n",
       "0      1   Multiple                  3              No   \n",
       "1      1   Multiple                  1              No   \n",
       "2      1     Single                  1              No   \n",
       "3      1     Single                  1              No   \n",
       "4      1     Single                  1              No   \n",
       "\n",
       "  Heavy Rigid Truck Involvement Articulated Truck Involvement Speed Limit  \\\n",
       "0                            No                            No          70   \n",
       "1                            No                            No          50   \n",
       "2                            No                            No          80   \n",
       "3                            No                            No          70   \n",
       "4                            No                            No          50   \n",
       "\n",
       "  Christmas Period Easter Period Day of week Time of day  Friday  Monday  \\\n",
       "0               No            No     Weekday         Day       0       0   \n",
       "1               No            No     Weekday       Night       1       0   \n",
       "2               No            No     Weekend       Night       0       0   \n",
       "3               No            No     Weekday         Day       1       0   \n",
       "4               No            No     Weekend       Night       0       0   \n",
       "\n",
       "   Saturday  Sunday  Thursday  Tuesday  Wednesday  \n",
       "0         0       0         0        1          0  \n",
       "1         0       0         0        0          0  \n",
       "2         1       0         0        0          0  \n",
       "3         0       0         0        0          0  \n",
       "4         0       1         0        0          0  "
      ]
     },
     "execution_count": 10,
     "metadata": {},
     "output_type": "execute_result"
    }
   ],
   "source": [
    "# Convert Dayweek into get_dummies and append to the end of the Dataframe\n",
    "ardd_cleaned_df = pd.concat([ardd_cleaned_df, pd.get_dummies(ardd_cleaned_df['Dayweek'])], axis=1); ardd_cleaned_df\n",
    "ardd_cleaned_df = ardd_cleaned_df.drop(['Dayweek'],axis=1)\n",
    "ardd_cleaned_df.head()"
   ]
  },
  {
   "cell_type": "code",
   "execution_count": 11,
   "metadata": {
    "ExecuteTime": {
     "end_time": "2021-02-25T16:22:49.572671Z",
     "start_time": "2021-02-25T16:22:49.493375Z"
    },
    "scrolled": true
   },
   "outputs": [],
   "source": [
    "# Convert No = 0, Yes = 1\n",
    "ardd_cleaned_df=ardd_cleaned_df.replace(to_replace =\"No\", value = 0) \n",
    "ardd_cleaned_df=ardd_cleaned_df.replace(to_replace =\"Yes\", value = 1)\n",
    "\n",
    "# Convert Weekday = 0, Weekend = 1\n",
    "ardd_cleaned_df=ardd_cleaned_df.replace(to_replace =\"Weekday\", value = 0) \n",
    "ardd_cleaned_df=ardd_cleaned_df.replace(to_replace =\"Weekend\", value = 1) \n",
    "\n",
    "# Convert Day = 0, Night = 1\n",
    "ardd_cleaned_df=ardd_cleaned_df.replace(to_replace =\"Day\", value = 0) \n",
    "ardd_cleaned_df=ardd_cleaned_df.replace(to_replace =\"Night\", value = 1) \n",
    "\n",
    "# Convert Single = 0, Multiple = 1\n",
    "ardd_cleaned_df=ardd_cleaned_df.replace(to_replace =\"Single\", value = 0) \n",
    "ardd_cleaned_df=ardd_cleaned_df.replace(to_replace =\"Multiple\", value = 1) \n",
    "\n",
    "# Remove 'Number Fatalities' as this would affect the prediction of 'Crash Type'\n",
    "ardd_cleaned_df = ardd_cleaned_df.drop(['Number Fatalities'],axis=1)\n",
    "\n",
    "# Rename column\n",
    "ardd_cleaned_df = ardd_cleaned_df.rename(columns={\n",
    "    \"Crash Type\": \"Crash_Type\",\n",
    "    \"Bus Involvement\":\"Bus_Involvement\",\n",
    "    \"Heavy Rigid Truck Involvement\":\"Heavy_Rigid_Truck_Involvement\",\n",
    "    \"Articulated Truck Involvement\":\"Articulated_Truck_Involvement\",\n",
    "    \"Speed Limit\":\"Speed_Limit\",\n",
    "    \"Christmas Period\":\"Christmas_Period\",\n",
    "    \"Easter Period\":\"Easter_Period\",\n",
    "    \"Day of week\":\"Day_of_week\",\n",
    "    \"Time of day\":\"Time_of_day\"})"
   ]
  },
  {
   "cell_type": "code",
   "execution_count": 12,
   "metadata": {
    "ExecuteTime": {
     "end_time": "2021-02-25T16:22:49.584526Z",
     "start_time": "2021-02-25T16:22:49.574506Z"
    },
    "scrolled": false
   },
   "outputs": [
    {
     "data": {
      "text/html": [
       "<div>\n",
       "<style scoped>\n",
       "    .dataframe tbody tr th:only-of-type {\n",
       "        vertical-align: middle;\n",
       "    }\n",
       "\n",
       "    .dataframe tbody tr th {\n",
       "        vertical-align: top;\n",
       "    }\n",
       "\n",
       "    .dataframe thead th {\n",
       "        text-align: right;\n",
       "    }\n",
       "</style>\n",
       "<table border=\"1\" class=\"dataframe\">\n",
       "  <thead>\n",
       "    <tr style=\"text-align: right;\">\n",
       "      <th></th>\n",
       "      <th>Month</th>\n",
       "      <th>Crash_Type</th>\n",
       "      <th>Bus_Involvement</th>\n",
       "      <th>Heavy_Rigid_Truck_Involvement</th>\n",
       "      <th>Articulated_Truck_Involvement</th>\n",
       "      <th>Speed_Limit</th>\n",
       "      <th>Christmas_Period</th>\n",
       "      <th>Easter_Period</th>\n",
       "      <th>Day_of_week</th>\n",
       "      <th>Time_of_day</th>\n",
       "      <th>Friday</th>\n",
       "      <th>Monday</th>\n",
       "      <th>Saturday</th>\n",
       "      <th>Sunday</th>\n",
       "      <th>Thursday</th>\n",
       "      <th>Tuesday</th>\n",
       "      <th>Wednesday</th>\n",
       "    </tr>\n",
       "  </thead>\n",
       "  <tbody>\n",
       "    <tr>\n",
       "      <th>0</th>\n",
       "      <td>1</td>\n",
       "      <td>1</td>\n",
       "      <td>0</td>\n",
       "      <td>0</td>\n",
       "      <td>0</td>\n",
       "      <td>70</td>\n",
       "      <td>0</td>\n",
       "      <td>0</td>\n",
       "      <td>0</td>\n",
       "      <td>0</td>\n",
       "      <td>0</td>\n",
       "      <td>0</td>\n",
       "      <td>0</td>\n",
       "      <td>0</td>\n",
       "      <td>0</td>\n",
       "      <td>1</td>\n",
       "      <td>0</td>\n",
       "    </tr>\n",
       "    <tr>\n",
       "      <th>1</th>\n",
       "      <td>1</td>\n",
       "      <td>1</td>\n",
       "      <td>0</td>\n",
       "      <td>0</td>\n",
       "      <td>0</td>\n",
       "      <td>50</td>\n",
       "      <td>0</td>\n",
       "      <td>0</td>\n",
       "      <td>0</td>\n",
       "      <td>1</td>\n",
       "      <td>1</td>\n",
       "      <td>0</td>\n",
       "      <td>0</td>\n",
       "      <td>0</td>\n",
       "      <td>0</td>\n",
       "      <td>0</td>\n",
       "      <td>0</td>\n",
       "    </tr>\n",
       "    <tr>\n",
       "      <th>2</th>\n",
       "      <td>1</td>\n",
       "      <td>0</td>\n",
       "      <td>0</td>\n",
       "      <td>0</td>\n",
       "      <td>0</td>\n",
       "      <td>80</td>\n",
       "      <td>0</td>\n",
       "      <td>0</td>\n",
       "      <td>1</td>\n",
       "      <td>1</td>\n",
       "      <td>0</td>\n",
       "      <td>0</td>\n",
       "      <td>1</td>\n",
       "      <td>0</td>\n",
       "      <td>0</td>\n",
       "      <td>0</td>\n",
       "      <td>0</td>\n",
       "    </tr>\n",
       "    <tr>\n",
       "      <th>3</th>\n",
       "      <td>1</td>\n",
       "      <td>0</td>\n",
       "      <td>0</td>\n",
       "      <td>0</td>\n",
       "      <td>0</td>\n",
       "      <td>70</td>\n",
       "      <td>0</td>\n",
       "      <td>0</td>\n",
       "      <td>0</td>\n",
       "      <td>0</td>\n",
       "      <td>1</td>\n",
       "      <td>0</td>\n",
       "      <td>0</td>\n",
       "      <td>0</td>\n",
       "      <td>0</td>\n",
       "      <td>0</td>\n",
       "      <td>0</td>\n",
       "    </tr>\n",
       "    <tr>\n",
       "      <th>4</th>\n",
       "      <td>1</td>\n",
       "      <td>0</td>\n",
       "      <td>0</td>\n",
       "      <td>0</td>\n",
       "      <td>0</td>\n",
       "      <td>50</td>\n",
       "      <td>0</td>\n",
       "      <td>0</td>\n",
       "      <td>1</td>\n",
       "      <td>1</td>\n",
       "      <td>0</td>\n",
       "      <td>0</td>\n",
       "      <td>0</td>\n",
       "      <td>1</td>\n",
       "      <td>0</td>\n",
       "      <td>0</td>\n",
       "      <td>0</td>\n",
       "    </tr>\n",
       "  </tbody>\n",
       "</table>\n",
       "</div>"
      ],
      "text/plain": [
       "   Month  Crash_Type  Bus_Involvement  Heavy_Rigid_Truck_Involvement  \\\n",
       "0      1           1                0                              0   \n",
       "1      1           1                0                              0   \n",
       "2      1           0                0                              0   \n",
       "3      1           0                0                              0   \n",
       "4      1           0                0                              0   \n",
       "\n",
       "   Articulated_Truck_Involvement Speed_Limit  Christmas_Period  Easter_Period  \\\n",
       "0                              0          70                 0              0   \n",
       "1                              0          50                 0              0   \n",
       "2                              0          80                 0              0   \n",
       "3                              0          70                 0              0   \n",
       "4                              0          50                 0              0   \n",
       "\n",
       "   Day_of_week  Time_of_day  Friday  Monday  Saturday  Sunday  Thursday  \\\n",
       "0            0            0       0       0         0       0         0   \n",
       "1            0            1       1       0         0       0         0   \n",
       "2            1            1       0       0         1       0         0   \n",
       "3            0            0       1       0         0       0         0   \n",
       "4            1            1       0       0         0       1         0   \n",
       "\n",
       "   Tuesday  Wednesday  \n",
       "0        1          0  \n",
       "1        0          0  \n",
       "2        0          0  \n",
       "3        0          0  \n",
       "4        0          0  "
      ]
     },
     "execution_count": 12,
     "metadata": {},
     "output_type": "execute_result"
    }
   ],
   "source": [
    "ardd_cleaned_df.head()"
   ]
  },
  {
   "cell_type": "code",
   "execution_count": 13,
   "metadata": {
    "ExecuteTime": {
     "end_time": "2021-02-25T16:22:49.603214Z",
     "start_time": "2021-02-25T16:22:49.585895Z"
    },
    "scrolled": true
   },
   "outputs": [
    {
     "name": "stdout",
     "output_type": "stream",
     "text": [
      "Number of observations: 28235\n"
     ]
    }
   ],
   "source": [
    "# Drop rows with '<' sign (i.e. <40)\n",
    "ardd_no_df = ardd_cleaned_df.drop(ardd_cleaned_df[ardd_cleaned_df.Speed_Limit.str.contains('<', na=False)].index)\n",
    "print(f'Number of observations: {len(ardd_no_df)}')"
   ]
  },
  {
   "cell_type": "code",
   "execution_count": 14,
   "metadata": {
    "ExecuteTime": {
     "end_time": "2021-02-25T16:22:49.607629Z",
     "start_time": "2021-02-25T16:22:49.604748Z"
    }
   },
   "outputs": [
    {
     "data": {
      "text/plain": [
       "28235"
      ]
     },
     "execution_count": 14,
     "metadata": {},
     "output_type": "execute_result"
    }
   ],
   "source": [
    "len(ardd_no_df)"
   ]
  },
  {
   "cell_type": "code",
   "execution_count": 15,
   "metadata": {
    "ExecuteTime": {
     "end_time": "2021-02-25T16:22:49.614695Z",
     "start_time": "2021-02-25T16:22:49.609057Z"
    }
   },
   "outputs": [
    {
     "data": {
      "text/html": [
       "<div>\n",
       "<style scoped>\n",
       "    .dataframe tbody tr th:only-of-type {\n",
       "        vertical-align: middle;\n",
       "    }\n",
       "\n",
       "    .dataframe tbody tr th {\n",
       "        vertical-align: top;\n",
       "    }\n",
       "\n",
       "    .dataframe thead th {\n",
       "        text-align: right;\n",
       "    }\n",
       "</style>\n",
       "<table border=\"1\" class=\"dataframe\">\n",
       "  <thead>\n",
       "    <tr style=\"text-align: right;\">\n",
       "      <th></th>\n",
       "      <th>Crash_Type</th>\n",
       "    </tr>\n",
       "  </thead>\n",
       "  <tbody>\n",
       "    <tr>\n",
       "      <th>0</th>\n",
       "      <td>1</td>\n",
       "    </tr>\n",
       "    <tr>\n",
       "      <th>1</th>\n",
       "      <td>1</td>\n",
       "    </tr>\n",
       "    <tr>\n",
       "      <th>2</th>\n",
       "      <td>0</td>\n",
       "    </tr>\n",
       "    <tr>\n",
       "      <th>3</th>\n",
       "      <td>0</td>\n",
       "    </tr>\n",
       "    <tr>\n",
       "      <th>4</th>\n",
       "      <td>0</td>\n",
       "    </tr>\n",
       "  </tbody>\n",
       "</table>\n",
       "</div>"
      ],
      "text/plain": [
       "   Crash_Type\n",
       "0           1\n",
       "1           1\n",
       "2           0\n",
       "3           0\n",
       "4           0"
      ]
     },
     "execution_count": 15,
     "metadata": {},
     "output_type": "execute_result"
    }
   ],
   "source": [
    "# Dataframe for testing as Y (the column to predict)\n",
    "ardd_one_df = ardd_no_df.filter(['Crash_Type'], axis=1)\n",
    "ardd_one_df.head()"
   ]
  },
  {
   "cell_type": "code",
   "execution_count": 16,
   "metadata": {
    "ExecuteTime": {
     "end_time": "2021-02-25T16:22:49.627937Z",
     "start_time": "2021-02-25T16:22:49.615970Z"
    }
   },
   "outputs": [
    {
     "data": {
      "text/html": [
       "<div>\n",
       "<style scoped>\n",
       "    .dataframe tbody tr th:only-of-type {\n",
       "        vertical-align: middle;\n",
       "    }\n",
       "\n",
       "    .dataframe tbody tr th {\n",
       "        vertical-align: top;\n",
       "    }\n",
       "\n",
       "    .dataframe thead th {\n",
       "        text-align: right;\n",
       "    }\n",
       "</style>\n",
       "<table border=\"1\" class=\"dataframe\">\n",
       "  <thead>\n",
       "    <tr style=\"text-align: right;\">\n",
       "      <th></th>\n",
       "      <th>Month</th>\n",
       "      <th>Bus_Involvement</th>\n",
       "      <th>Heavy_Rigid_Truck_Involvement</th>\n",
       "      <th>Articulated_Truck_Involvement</th>\n",
       "      <th>Speed_Limit</th>\n",
       "      <th>Christmas_Period</th>\n",
       "      <th>Easter_Period</th>\n",
       "      <th>Day_of_week</th>\n",
       "      <th>Time_of_day</th>\n",
       "      <th>Friday</th>\n",
       "      <th>Monday</th>\n",
       "      <th>Saturday</th>\n",
       "      <th>Sunday</th>\n",
       "      <th>Thursday</th>\n",
       "      <th>Tuesday</th>\n",
       "      <th>Wednesday</th>\n",
       "    </tr>\n",
       "  </thead>\n",
       "  <tbody>\n",
       "    <tr>\n",
       "      <th>0</th>\n",
       "      <td>1</td>\n",
       "      <td>0</td>\n",
       "      <td>0</td>\n",
       "      <td>0</td>\n",
       "      <td>70</td>\n",
       "      <td>0</td>\n",
       "      <td>0</td>\n",
       "      <td>0</td>\n",
       "      <td>0</td>\n",
       "      <td>0</td>\n",
       "      <td>0</td>\n",
       "      <td>0</td>\n",
       "      <td>0</td>\n",
       "      <td>0</td>\n",
       "      <td>1</td>\n",
       "      <td>0</td>\n",
       "    </tr>\n",
       "    <tr>\n",
       "      <th>1</th>\n",
       "      <td>1</td>\n",
       "      <td>0</td>\n",
       "      <td>0</td>\n",
       "      <td>0</td>\n",
       "      <td>50</td>\n",
       "      <td>0</td>\n",
       "      <td>0</td>\n",
       "      <td>0</td>\n",
       "      <td>1</td>\n",
       "      <td>1</td>\n",
       "      <td>0</td>\n",
       "      <td>0</td>\n",
       "      <td>0</td>\n",
       "      <td>0</td>\n",
       "      <td>0</td>\n",
       "      <td>0</td>\n",
       "    </tr>\n",
       "    <tr>\n",
       "      <th>2</th>\n",
       "      <td>1</td>\n",
       "      <td>0</td>\n",
       "      <td>0</td>\n",
       "      <td>0</td>\n",
       "      <td>80</td>\n",
       "      <td>0</td>\n",
       "      <td>0</td>\n",
       "      <td>1</td>\n",
       "      <td>1</td>\n",
       "      <td>0</td>\n",
       "      <td>0</td>\n",
       "      <td>1</td>\n",
       "      <td>0</td>\n",
       "      <td>0</td>\n",
       "      <td>0</td>\n",
       "      <td>0</td>\n",
       "    </tr>\n",
       "    <tr>\n",
       "      <th>3</th>\n",
       "      <td>1</td>\n",
       "      <td>0</td>\n",
       "      <td>0</td>\n",
       "      <td>0</td>\n",
       "      <td>70</td>\n",
       "      <td>0</td>\n",
       "      <td>0</td>\n",
       "      <td>0</td>\n",
       "      <td>0</td>\n",
       "      <td>1</td>\n",
       "      <td>0</td>\n",
       "      <td>0</td>\n",
       "      <td>0</td>\n",
       "      <td>0</td>\n",
       "      <td>0</td>\n",
       "      <td>0</td>\n",
       "    </tr>\n",
       "    <tr>\n",
       "      <th>4</th>\n",
       "      <td>1</td>\n",
       "      <td>0</td>\n",
       "      <td>0</td>\n",
       "      <td>0</td>\n",
       "      <td>50</td>\n",
       "      <td>0</td>\n",
       "      <td>0</td>\n",
       "      <td>1</td>\n",
       "      <td>1</td>\n",
       "      <td>0</td>\n",
       "      <td>0</td>\n",
       "      <td>0</td>\n",
       "      <td>1</td>\n",
       "      <td>0</td>\n",
       "      <td>0</td>\n",
       "      <td>0</td>\n",
       "    </tr>\n",
       "  </tbody>\n",
       "</table>\n",
       "</div>"
      ],
      "text/plain": [
       "   Month  Bus_Involvement  Heavy_Rigid_Truck_Involvement  \\\n",
       "0      1                0                              0   \n",
       "1      1                0                              0   \n",
       "2      1                0                              0   \n",
       "3      1                0                              0   \n",
       "4      1                0                              0   \n",
       "\n",
       "   Articulated_Truck_Involvement Speed_Limit  Christmas_Period  Easter_Period  \\\n",
       "0                              0          70                 0              0   \n",
       "1                              0          50                 0              0   \n",
       "2                              0          80                 0              0   \n",
       "3                              0          70                 0              0   \n",
       "4                              0          50                 0              0   \n",
       "\n",
       "   Day_of_week  Time_of_day  Friday  Monday  Saturday  Sunday  Thursday  \\\n",
       "0            0            0       0       0         0       0         0   \n",
       "1            0            1       1       0         0       0         0   \n",
       "2            1            1       0       0         1       0         0   \n",
       "3            0            0       1       0         0       0         0   \n",
       "4            1            1       0       0         0       1         0   \n",
       "\n",
       "   Tuesday  Wednesday  \n",
       "0        1          0  \n",
       "1        0          0  \n",
       "2        0          0  \n",
       "3        0          0  \n",
       "4        0          0  "
      ]
     },
     "execution_count": 16,
     "metadata": {},
     "output_type": "execute_result"
    }
   ],
   "source": [
    "ardd_except_df = ardd_no_df.loc[:, ardd_no_df.columns != 'Crash_Type']\n",
    "ardd_except_df.head()"
   ]
  },
  {
   "cell_type": "code",
   "execution_count": 17,
   "metadata": {
    "ExecuteTime": {
     "end_time": "2021-02-25T16:22:49.636695Z",
     "start_time": "2021-02-25T16:22:49.629420Z"
    }
   },
   "outputs": [],
   "source": [
    "# Split into Training set and Testing set\n",
    "X_train, X_test, y_train, y_test = train_test_split(ardd_except_df, ardd_one_df, test_size=0.2)"
   ]
  },
  {
   "cell_type": "code",
   "execution_count": 18,
   "metadata": {
    "ExecuteTime": {
     "end_time": "2021-02-25T16:22:49.641222Z",
     "start_time": "2021-02-25T16:22:49.638407Z"
    }
   },
   "outputs": [
    {
     "name": "stdout",
     "output_type": "stream",
     "text": [
      "Number of observations in the X training data: 22588\n",
      "Number of observations in the X test data: 5647\n",
      "Number of observations in the Y training data: 22588\n",
      "Number of observations in the Y test data: 5647\n"
     ]
    }
   ],
   "source": [
    "# Show the number of observations for the test and training dataframes\n",
    "print('Number of observations in the X training data:', len(X_train))\n",
    "print('Number of observations in the X test data:',len(X_test))\n",
    "print('Number of observations in the Y training data:', len(y_train))\n",
    "print('Number of observations in the Y test data:',len(y_test))"
   ]
  },
  {
   "cell_type": "markdown",
   "metadata": {},
   "source": [
    "# Match it with Support Vector Machine"
   ]
  },
  {
   "cell_type": "code",
   "execution_count": null,
   "metadata": {
    "ExecuteTime": {
     "end_time": "2021-02-25T16:23:27.101947Z",
     "start_time": "2021-02-25T16:23:21.789Z"
    }
   },
   "outputs": [],
   "source": [
    "# Fit to the training data and validate with the test data\n",
    "model = SVC(kernel='linear')\n",
    "model.fit(X_train, y_train.values.ravel())\n",
    "predictions = model.predict(X_test)"
   ]
  },
  {
   "cell_type": "code",
   "execution_count": 20,
   "metadata": {
    "ExecuteTime": {
     "end_time": "2021-02-25T16:23:24.598598Z",
     "start_time": "2021-02-25T16:23:24.596419Z"
    }
   },
   "outputs": [],
   "source": [
    "from sklearn.metrics import confusion_matrix"
   ]
  },
  {
   "cell_type": "code",
   "execution_count": 21,
   "metadata": {
    "ExecuteTime": {
     "end_time": "2021-02-25T16:23:24.610060Z",
     "start_time": "2021-02-25T16:23:24.600349Z"
    },
    "scrolled": true
   },
   "outputs": [
    {
     "data": {
      "text/html": [
       "<div>\n",
       "<style scoped>\n",
       "    .dataframe tbody tr th:only-of-type {\n",
       "        vertical-align: middle;\n",
       "    }\n",
       "\n",
       "    .dataframe tbody tr th {\n",
       "        vertical-align: top;\n",
       "    }\n",
       "\n",
       "    .dataframe thead th {\n",
       "        text-align: right;\n",
       "    }\n",
       "</style>\n",
       "<table border=\"1\" class=\"dataframe\">\n",
       "  <thead>\n",
       "    <tr style=\"text-align: right;\">\n",
       "      <th></th>\n",
       "      <th>0</th>\n",
       "      <th>1</th>\n",
       "    </tr>\n",
       "  </thead>\n",
       "  <tbody>\n",
       "    <tr>\n",
       "      <th>0</th>\n",
       "      <td>2978</td>\n",
       "      <td>1767</td>\n",
       "    </tr>\n",
       "    <tr>\n",
       "      <th>1</th>\n",
       "      <td>204</td>\n",
       "      <td>698</td>\n",
       "    </tr>\n",
       "  </tbody>\n",
       "</table>\n",
       "</div>"
      ],
      "text/plain": [
       "      0     1\n",
       "0  2978  1767\n",
       "1   204   698"
      ]
     },
     "execution_count": 21,
     "metadata": {},
     "output_type": "execute_result"
    }
   ],
   "source": [
    "# Print the confusion matrix\n",
    "# confusion_matrix(y_test, predictions)\n",
    "pd.DataFrame(confusion_matrix(y_test, predictions)).transpose()"
   ]
  },
  {
   "cell_type": "code",
   "execution_count": 22,
   "metadata": {
    "ExecuteTime": {
     "end_time": "2021-02-25T16:23:24.618480Z",
     "start_time": "2021-02-25T16:23:24.611391Z"
    }
   },
   "outputs": [
    {
     "name": "stdout",
     "output_type": "stream",
     "text": [
      "Training Data for Crash Type\n"
     ]
    },
    {
     "data": {
      "text/html": [
       "<div>\n",
       "<style scoped>\n",
       "    .dataframe tbody tr th:only-of-type {\n",
       "        vertical-align: middle;\n",
       "    }\n",
       "\n",
       "    .dataframe tbody tr th {\n",
       "        vertical-align: top;\n",
       "    }\n",
       "\n",
       "    .dataframe thead th {\n",
       "        text-align: right;\n",
       "    }\n",
       "</style>\n",
       "<table border=\"1\" class=\"dataframe\">\n",
       "  <thead>\n",
       "    <tr style=\"text-align: right;\">\n",
       "      <th></th>\n",
       "      <th>0</th>\n",
       "      <th>1</th>\n",
       "    </tr>\n",
       "  </thead>\n",
       "  <tbody>\n",
       "    <tr>\n",
       "      <th>Crash_Type</th>\n",
       "      <td>12838</td>\n",
       "      <td>9750</td>\n",
       "    </tr>\n",
       "  </tbody>\n",
       "</table>\n",
       "</div>"
      ],
      "text/plain": [
       "                0     1\n",
       "Crash_Type  12838  9750"
      ]
     },
     "execution_count": 22,
     "metadata": {},
     "output_type": "execute_result"
    }
   ],
   "source": [
    "# y_train.Crash_Type.value_counts()\n",
    "print('Training Data for Crash Type')\n",
    "pd.DataFrame(y_train.Crash_Type.value_counts()).transpose()"
   ]
  },
  {
   "cell_type": "code",
   "execution_count": 23,
   "metadata": {
    "ExecuteTime": {
     "end_time": "2021-02-25T16:23:24.630931Z",
     "start_time": "2021-02-25T16:23:24.624340Z"
    }
   },
   "outputs": [
    {
     "name": "stdout",
     "output_type": "stream",
     "text": [
      "Test Data for Crash Type\n"
     ]
    },
    {
     "data": {
      "text/html": [
       "<div>\n",
       "<style scoped>\n",
       "    .dataframe tbody tr th:only-of-type {\n",
       "        vertical-align: middle;\n",
       "    }\n",
       "\n",
       "    .dataframe tbody tr th {\n",
       "        vertical-align: top;\n",
       "    }\n",
       "\n",
       "    .dataframe thead th {\n",
       "        text-align: right;\n",
       "    }\n",
       "</style>\n",
       "<table border=\"1\" class=\"dataframe\">\n",
       "  <thead>\n",
       "    <tr style=\"text-align: right;\">\n",
       "      <th></th>\n",
       "      <th>0</th>\n",
       "      <th>1</th>\n",
       "    </tr>\n",
       "  </thead>\n",
       "  <tbody>\n",
       "    <tr>\n",
       "      <th>Crash_Type</th>\n",
       "      <td>3182</td>\n",
       "      <td>2465</td>\n",
       "    </tr>\n",
       "  </tbody>\n",
       "</table>\n",
       "</div>"
      ],
      "text/plain": [
       "               0     1\n",
       "Crash_Type  3182  2465"
      ]
     },
     "execution_count": 23,
     "metadata": {},
     "output_type": "execute_result"
    }
   ],
   "source": [
    "# y_test.Crash_Type.value_counts()\n",
    "print('Test Data for Crash Type')\n",
    "pd.DataFrame(y_test.Crash_Type.value_counts()).transpose()"
   ]
  },
  {
   "cell_type": "code",
   "execution_count": 24,
   "metadata": {
    "ExecuteTime": {
     "end_time": "2021-02-25T16:23:24.636405Z",
     "start_time": "2021-02-25T16:23:24.634583Z"
    }
   },
   "outputs": [],
   "source": [
    "from sklearn.metrics import accuracy_score"
   ]
  },
  {
   "cell_type": "code",
   "execution_count": 25,
   "metadata": {
    "ExecuteTime": {
     "end_time": "2021-02-25T16:23:24.641639Z",
     "start_time": "2021-02-25T16:23:24.637797Z"
    }
   },
   "outputs": [
    {
     "data": {
      "text/plain": [
       "0.6509651142199397"
      ]
     },
     "execution_count": 25,
     "metadata": {},
     "output_type": "execute_result"
    }
   ],
   "source": [
    "accuracy_score(y_test, predictions)"
   ]
  },
  {
   "cell_type": "code",
   "execution_count": 26,
   "metadata": {
    "ExecuteTime": {
     "end_time": "2021-02-25T16:23:24.659431Z",
     "start_time": "2021-02-25T16:23:24.642956Z"
    },
    "scrolled": false
   },
   "outputs": [
    {
     "data": {
      "text/html": [
       "<div>\n",
       "<style scoped>\n",
       "    .dataframe tbody tr th:only-of-type {\n",
       "        vertical-align: middle;\n",
       "    }\n",
       "\n",
       "    .dataframe tbody tr th {\n",
       "        vertical-align: top;\n",
       "    }\n",
       "\n",
       "    .dataframe thead th {\n",
       "        text-align: right;\n",
       "    }\n",
       "</style>\n",
       "<table border=\"1\" class=\"dataframe\">\n",
       "  <thead>\n",
       "    <tr style=\"text-align: right;\">\n",
       "      <th></th>\n",
       "      <th>precision</th>\n",
       "      <th>recall</th>\n",
       "      <th>f1-score</th>\n",
       "      <th>support</th>\n",
       "    </tr>\n",
       "  </thead>\n",
       "  <tbody>\n",
       "    <tr>\n",
       "      <th>0</th>\n",
       "      <td>0.627608</td>\n",
       "      <td>0.935889</td>\n",
       "      <td>0.751356</td>\n",
       "      <td>3182.000000</td>\n",
       "    </tr>\n",
       "    <tr>\n",
       "      <th>1</th>\n",
       "      <td>0.773836</td>\n",
       "      <td>0.283164</td>\n",
       "      <td>0.414612</td>\n",
       "      <td>2465.000000</td>\n",
       "    </tr>\n",
       "    <tr>\n",
       "      <th>accuracy</th>\n",
       "      <td>0.650965</td>\n",
       "      <td>0.650965</td>\n",
       "      <td>0.650965</td>\n",
       "      <td>0.650965</td>\n",
       "    </tr>\n",
       "    <tr>\n",
       "      <th>macro avg</th>\n",
       "      <td>0.700722</td>\n",
       "      <td>0.609527</td>\n",
       "      <td>0.582984</td>\n",
       "      <td>5647.000000</td>\n",
       "    </tr>\n",
       "    <tr>\n",
       "      <th>weighted avg</th>\n",
       "      <td>0.691439</td>\n",
       "      <td>0.650965</td>\n",
       "      <td>0.604362</td>\n",
       "      <td>5647.000000</td>\n",
       "    </tr>\n",
       "  </tbody>\n",
       "</table>\n",
       "</div>"
      ],
      "text/plain": [
       "              precision    recall  f1-score      support\n",
       "0              0.627608  0.935889  0.751356  3182.000000\n",
       "1              0.773836  0.283164  0.414612  2465.000000\n",
       "accuracy       0.650965  0.650965  0.650965     0.650965\n",
       "macro avg      0.700722  0.609527  0.582984  5647.000000\n",
       "weighted avg   0.691439  0.650965  0.604362  5647.000000"
      ]
     },
     "execution_count": 26,
     "metadata": {},
     "output_type": "execute_result"
    }
   ],
   "source": [
    "# Calculate the Classification Report\n",
    "pd.DataFrame(classification_report(y_test, predictions, output_dict=True)).transpose()"
   ]
  },
  {
   "cell_type": "markdown",
   "metadata": {},
   "source": [
    "Precision and Recall focus on the True Positive cases from different point of view.\n",
    "\n",
    "Precision = True Positive / ( True Positive + False Positive )\n",
    "\n",
    "Recall = True Positive / ( True Positive + False negative ) "
   ]
  },
  {
   "cell_type": "markdown",
   "metadata": {
    "ExecuteTime": {
     "end_time": "2021-02-22T15:26:52.483527Z",
     "start_time": "2021-02-22T15:26:52.481649Z"
    }
   },
   "source": [
    "-------------------------------"
   ]
  },
  {
   "cell_type": "markdown",
   "metadata": {},
   "source": [
    "# Match it with a Random Forest Classifier"
   ]
  },
  {
   "cell_type": "code",
   "execution_count": 27,
   "metadata": {
    "ExecuteTime": {
     "end_time": "2021-02-25T16:23:24.708534Z",
     "start_time": "2021-02-25T16:23:24.660680Z"
    }
   },
   "outputs": [],
   "source": [
    "from sklearn.ensemble import RandomForestClassifier"
   ]
  },
  {
   "cell_type": "code",
   "execution_count": 28,
   "metadata": {
    "ExecuteTime": {
     "end_time": "2021-02-25T16:23:25.854560Z",
     "start_time": "2021-02-25T16:23:24.709816Z"
    }
   },
   "outputs": [],
   "source": [
    "model_rf = RandomForestClassifier()\n",
    "model_rf.fit(X_train, y_train.values.ravel())\n",
    "predictions = model_rf.predict(X_test)"
   ]
  },
  {
   "cell_type": "code",
   "execution_count": 29,
   "metadata": {
    "ExecuteTime": {
     "end_time": "2021-02-25T16:23:25.858041Z",
     "start_time": "2021-02-25T16:23:25.855926Z"
    }
   },
   "outputs": [],
   "source": [
    "# pd.DataFrame({'Importances': model_rf.feature_importances_}, index=ardd_except_df.columns).sort_values(by='Importances', ascending=False)"
   ]
  },
  {
   "cell_type": "code",
   "execution_count": 30,
   "metadata": {
    "ExecuteTime": {
     "end_time": "2021-02-25T16:23:25.869605Z",
     "start_time": "2021-02-25T16:23:25.859465Z"
    }
   },
   "outputs": [
    {
     "data": {
      "text/html": [
       "<div>\n",
       "<style scoped>\n",
       "    .dataframe tbody tr th:only-of-type {\n",
       "        vertical-align: middle;\n",
       "    }\n",
       "\n",
       "    .dataframe tbody tr th {\n",
       "        vertical-align: top;\n",
       "    }\n",
       "\n",
       "    .dataframe thead th {\n",
       "        text-align: right;\n",
       "    }\n",
       "</style>\n",
       "<table border=\"1\" class=\"dataframe\">\n",
       "  <thead>\n",
       "    <tr style=\"text-align: right;\">\n",
       "      <th></th>\n",
       "      <th>0</th>\n",
       "      <th>1</th>\n",
       "    </tr>\n",
       "  </thead>\n",
       "  <tbody>\n",
       "    <tr>\n",
       "      <th>0</th>\n",
       "      <td>2372</td>\n",
       "      <td>1327</td>\n",
       "    </tr>\n",
       "    <tr>\n",
       "      <th>1</th>\n",
       "      <td>810</td>\n",
       "      <td>1138</td>\n",
       "    </tr>\n",
       "  </tbody>\n",
       "</table>\n",
       "</div>"
      ],
      "text/plain": [
       "      0     1\n",
       "0  2372  1327\n",
       "1   810  1138"
      ]
     },
     "execution_count": 30,
     "metadata": {},
     "output_type": "execute_result"
    }
   ],
   "source": [
    "pd.DataFrame(confusion_matrix(y_test, predictions)).transpose()"
   ]
  },
  {
   "cell_type": "code",
   "execution_count": 31,
   "metadata": {
    "ExecuteTime": {
     "end_time": "2021-02-25T16:23:26.072377Z",
     "start_time": "2021-02-25T16:23:25.870919Z"
    },
    "scrolled": true
   },
   "outputs": [
    {
     "data": {
      "image/png": "[encoded data removed]",
      "text/plain": [
       "<Figure size 576x432 with 1 Axes>"
      ]
     },
     "metadata": {
      "needs_background": "light"
     },
     "output_type": "display_data"
    }
   ],
   "source": [
    "# Get the array of importances\n",
    "importances = model_rf.feature_importances_\n",
    "\n",
    "# Get the corresponding indices for listing in the graph\n",
    "indices = np.argsort(importances)\n",
    "\n",
    "std = np.std([tree.feature_importances_ for tree in model_rf.estimators_],\n",
    "             axis=0)\n",
    "\n",
    "plt.figure(figsize=(8,6))\n",
    "plt.title(\"Feature importances\")\n",
    "plt.barh(range(ardd_except_df.shape[1]), importances[indices],\n",
    "       color=\"steelblue\", xerr=std[indices], align=\"center\")\n",
    "plt.yticks(range(ardd_except_df.shape[1]), ardd_except_df.columns[indices])\n",
    "plt.ylim([-1, ardd_except_df.shape[1]])\n",
    "plt.show()"
   ]
  },
  {
   "cell_type": "code",
   "execution_count": 32,
   "metadata": {
    "ExecuteTime": {
     "end_time": "2021-02-25T16:23:26.091325Z",
     "start_time": "2021-02-25T16:23:26.073879Z"
    }
   },
   "outputs": [
    {
     "data": {
      "text/html": [
       "<div>\n",
       "<style scoped>\n",
       "    .dataframe tbody tr th:only-of-type {\n",
       "        vertical-align: middle;\n",
       "    }\n",
       "\n",
       "    .dataframe tbody tr th {\n",
       "        vertical-align: top;\n",
       "    }\n",
       "\n",
       "    .dataframe thead th {\n",
       "        text-align: right;\n",
       "    }\n",
       "</style>\n",
       "<table border=\"1\" class=\"dataframe\">\n",
       "  <thead>\n",
       "    <tr style=\"text-align: right;\">\n",
       "      <th></th>\n",
       "      <th>precision</th>\n",
       "      <th>recall</th>\n",
       "      <th>f1-score</th>\n",
       "      <th>support</th>\n",
       "    </tr>\n",
       "  </thead>\n",
       "  <tbody>\n",
       "    <tr>\n",
       "      <th>0</th>\n",
       "      <td>0.641254</td>\n",
       "      <td>0.745443</td>\n",
       "      <td>0.689435</td>\n",
       "      <td>3182.000000</td>\n",
       "    </tr>\n",
       "    <tr>\n",
       "      <th>1</th>\n",
       "      <td>0.584189</td>\n",
       "      <td>0.461663</td>\n",
       "      <td>0.515749</td>\n",
       "      <td>2465.000000</td>\n",
       "    </tr>\n",
       "    <tr>\n",
       "      <th>accuracy</th>\n",
       "      <td>0.621569</td>\n",
       "      <td>0.621569</td>\n",
       "      <td>0.621569</td>\n",
       "      <td>0.621569</td>\n",
       "    </tr>\n",
       "    <tr>\n",
       "      <th>macro avg</th>\n",
       "      <td>0.612722</td>\n",
       "      <td>0.603553</td>\n",
       "      <td>0.602592</td>\n",
       "      <td>5647.000000</td>\n",
       "    </tr>\n",
       "    <tr>\n",
       "      <th>weighted avg</th>\n",
       "      <td>0.616344</td>\n",
       "      <td>0.621569</td>\n",
       "      <td>0.613618</td>\n",
       "      <td>5647.000000</td>\n",
       "    </tr>\n",
       "  </tbody>\n",
       "</table>\n",
       "</div>"
      ],
      "text/plain": [
       "              precision    recall  f1-score      support\n",
       "0              0.641254  0.745443  0.689435  3182.000000\n",
       "1              0.584189  0.461663  0.515749  2465.000000\n",
       "accuracy       0.621569  0.621569  0.621569     0.621569\n",
       "macro avg      0.612722  0.603553  0.602592  5647.000000\n",
       "weighted avg   0.616344  0.621569  0.613618  5647.000000"
      ]
     },
     "execution_count": 32,
     "metadata": {},
     "output_type": "execute_result"
    }
   ],
   "source": [
    "pd.DataFrame(classification_report(y_test, predictions, output_dict=True)).transpose()"
   ]
  }
 ],
 "metadata": {
  "kernelspec": {
   "display_name": "Python 3",
   "language": "python",
   "name": "python3"
  },
  "language_info": {
   "codemirror_mode": {
    "name": "ipython",
    "version": 3
   },
   "file_extension": ".py",
   "mimetype": "text/x-python",
   "name": "python",
   "nbconvert_exporter": "python",
   "pygments_lexer": "ipython3",
   "version": "3.7.9"
  },
  "varInspector": {
   "cols": {
    "lenName": 16,
    "lenType": 16,
    "lenVar": 40
   },
   "kernels_config": {
    "python": {
     "delete_cmd_postfix": "",
     "delete_cmd_prefix": "del ",
     "library": "var_list.py",
     "varRefreshCmd": "print(var_dic_list())"
    },
    "r": {
     "delete_cmd_postfix": ") ",
     "delete_cmd_prefix": "rm(",
     "library": "var_list.r",
     "varRefreshCmd": "cat(var_dic_list()) "
    }
   },
   "types_to_exclude": [
    "module",
    "function",
    "builtin_function_or_method",
    "instance",
    "_Feature"
   ],
   "window_display": false
  }
 },
 "nbformat": 4,
 "nbformat_minor": 4
}
